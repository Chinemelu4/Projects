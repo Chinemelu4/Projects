{
  "cells": [
    {
      "cell_type": "markdown",
      "metadata": {
        "id": "view-in-github",
        "colab_type": "text"
      },
      "source": [
        "<a href=\"https://colab.research.google.com/github/Chinemelu4/Projects/blob/main/hotel_web_scraping.ipynb\" target=\"_parent\"><img src=\"https://colab.research.google.com/assets/colab-badge.svg\" alt=\"Open In Colab\"/></a>"
      ]
    },
    {
      "cell_type": "code",
      "execution_count": null,
      "id": "57cc34ec",
      "metadata": {
        "id": "57cc34ec"
      },
      "outputs": [],
      "source": [
        "from bs4 import BeautifulSoup # Import for Beautiful Soup\n",
        "import requests # Import for requests\n",
        "import lxml # Import for lxml parser\n",
        "import pandas as pd # Import for Pandas\n",
        "import matplotlib.pyplot as plt # Import for Matplotlib Pyplot\n",
        "%matplotlib inline"
      ]
    },
    {
      "cell_type": "code",
      "execution_count": null,
      "id": "948fb623",
      "metadata": {
        "id": "948fb623"
      },
      "outputs": [],
      "source": [
        "from datetime import date\n",
        "\n",
        "today = date.today()\n",
        "day=today.day\n",
        "year=today.year\n",
        "month=today.month\n",
        "tom=f'{year}-{month}-{day}'"
      ]
    },
    {
      "cell_type": "code",
      "execution_count": null,
      "id": "f9233161",
      "metadata": {
        "id": "f9233161",
        "outputId": "9ea860b2-ab5b-4fef-89b4-83e5092150b4"
      },
      "outputs": [
        {
          "data": {
            "text/plain": [
              "datetime.date(2022, 6, 16)"
            ]
          },
          "execution_count": 402,
          "metadata": {},
          "output_type": "execute_result"
        }
      ],
      "source": [
        "today"
      ]
    },
    {
      "cell_type": "code",
      "execution_count": null,
      "id": "12d80899",
      "metadata": {
        "id": "12d80899",
        "outputId": "a607e68f-e2e5-4e0d-8bf7-80d4de6113f6"
      },
      "outputs": [
        {
          "data": {
            "text/plain": [
              "17"
            ]
          },
          "execution_count": 403,
          "metadata": {},
          "output_type": "execute_result"
        }
      ],
      "source": [
        "day=today.day\n",
        "day=day+1 \n",
        "day "
      ]
    },
    {
      "cell_type": "code",
      "execution_count": null,
      "id": "db327203",
      "metadata": {
        "id": "db327203"
      },
      "outputs": [],
      "source": [
        "year=today.year"
      ]
    },
    {
      "cell_type": "code",
      "execution_count": null,
      "id": "66cda1c7",
      "metadata": {
        "id": "66cda1c7"
      },
      "outputs": [],
      "source": [
        "month=today.month"
      ]
    },
    {
      "cell_type": "code",
      "execution_count": null,
      "id": "28cf81bf",
      "metadata": {
        "scrolled": false,
        "id": "28cf81bf",
        "outputId": "400fd027-73de-44f8-b5d7-7268bda10bb1"
      },
      "outputs": [
        {
          "data": {
            "text/plain": [
              "'2022-6-17'"
            ]
          },
          "execution_count": 406,
          "metadata": {},
          "output_type": "execute_result"
        }
      ],
      "source": [
        "tom=f'{year}-{month}-{day}'\n",
        "tom"
      ]
    },
    {
      "cell_type": "code",
      "execution_count": null,
      "id": "558ceb1d",
      "metadata": {
        "id": "558ceb1d",
        "outputId": "4f00f691-e349-4d7b-fb9d-f52555a3734e"
      },
      "outputs": [
        {
          "name": "stdout",
          "output_type": "stream",
          "text": [
            "2022-6-17\n"
          ]
        }
      ],
      "source": [
        "print(tom) "
      ]
    },
    {
      "cell_type": "code",
      "execution_count": null,
      "id": "7ddc7010",
      "metadata": {
        "id": "7ddc7010"
      },
      "outputs": [],
      "source": [
        "\n",
        "main_link=f'https://www.booking.com/searchresults.html?sid=9035488a14dba79b3cf0ff841f1fe27f&checkout={tom}&dest_type=country&sb=1&label=gen173nr-1FCAEoggI46AdIM1gEaGyIAQGYATG4AQfIAQzYAQHoAQH4AQKIAgGoAgO4AvTIm_IFwAIB&aid=356980&ss=Nigeria&src=searchresults&ssne=Nigeria&checkin={today}&lang=en-us&sb_travel_purpose=leisure&src_elem=sb&group_adults=2&no_rooms=1&dest_id=155&ssne_untouched=Nigeria&group_children=0'\n",
        "headers = {'User-Agent':'Mozilla/5.0 (Macintosh; Intel Mac OS X 10_14_6) AppleWebKit/537.36 (KHTML, like Gecko) Chrome/102.0.5005.61 Safari/537.36'}"
      ]
    },
    {
      "cell_type": "code",
      "execution_count": null,
      "id": "56d0145f",
      "metadata": {
        "id": "56d0145f"
      },
      "outputs": [],
      "source": [
        "# Request for the URL\n",
        "page = requests.get(main_link, headers=headers)\n",
        "\n",
        "# We can also check the response code\n",
        "print(page.status_code)\n",
        "\n",
        "# Make it a soup\n",
        "soup = BeautifulSoup(page.text,\"lxml\")\n",
        "\n",
        "# Display Soup ( Main Page)\n",
        "soup"
      ]
    },
    {
      "cell_type": "code",
      "execution_count": null,
      "id": "9b6e8ca0",
      "metadata": {
        "id": "9b6e8ca0",
        "outputId": "8593001a-4d73-451d-e78e-e8e2b1ad6ef3"
      },
      "outputs": [
        {
          "data": {
            "text/plain": [
              "889"
            ]
          },
          "execution_count": 423,
          "metadata": {},
          "output_type": "execute_result"
        }
      ],
      "source": [
        "count=int(soup.find_all('h1', class_=\"e1f827110f d3a14d00da\")[0].text[9:-17].replace(\",\",\"\"))\n",
        "count"
      ]
    },
    {
      "cell_type": "code",
      "execution_count": null,
      "id": "30b40391",
      "metadata": {
        "id": "30b40391"
      },
      "outputs": [],
      "source": [
        "def get_page(url,head,num):\n",
        "    \"\"\"\n",
        "    Function takes url as parameter and returns the soup.\n",
        "    `url` : Link in strings\n",
        "    'num' : Fordifferent pages (1-40)\n",
        "    'head' : header for the url\n",
        "    \"\"\"\n",
        "    page = requests.get(url.format(num),headers=head)\n",
        "    if page.status_code != 200:\n",
        "        raise Exception('Failed to load page {}'.format(url))\n",
        "    soup = BeautifulSoup(page.text, \"lxml\")\n",
        "    return soup"
      ]
    },
    {
      "cell_type": "code",
      "execution_count": null,
      "id": "9b24c5e6",
      "metadata": {
        "id": "9b24c5e6",
        "outputId": "b33a21b3-10d1-447f-c756-abf9efce97a5"
      },
      "outputs": [
        {
          "data": {
            "text/plain": [
              "[<div class=\"fcab3ed991 a23c043802\" data-testid=\"title\">Swiss International The Vistana</div>,\n",
              " <div class=\"fcab3ed991 a23c043802\" data-testid=\"title\">Taverna Lounge &amp; Boutique Hotel</div>,\n",
              " <div class=\"fcab3ed991 a23c043802\" data-testid=\"title\">DelMor Shortlet Apartments</div>,\n",
              " <div class=\"fcab3ed991 a23c043802\" data-testid=\"title\">Villa Monument Hotel</div>,\n",
              " <div class=\"fcab3ed991 a23c043802\" data-testid=\"title\">mmmHouse</div>,\n",
              " <div class=\"fcab3ed991 a23c043802\" data-testid=\"title\">Manuela Residence</div>,\n",
              " <div class=\"fcab3ed991 a23c043802\" data-testid=\"title\">Exquisitely Luxury 4 unit of 4 bedroom duplex in Lekki</div>,\n",
              " <div class=\"fcab3ed991 a23c043802\" data-testid=\"title\">Seth Hotel, Asaba</div>,\n",
              " <div class=\"fcab3ed991 a23c043802\" data-testid=\"title\">Swiss Spirit Hotel &amp; Suites Danag - Port Harcourt</div>,\n",
              " <div class=\"fcab3ed991 a23c043802\" data-testid=\"title\">Greys Residential Homes Idu Abuja</div>,\n",
              " <div class=\"fcab3ed991 a23c043802\" data-testid=\"title\">Presken Hotels @ Freedom Way, Lekki</div>,\n",
              " <div class=\"fcab3ed991 a23c043802\" data-testid=\"title\">Ocean Park Hotel,Lekki phase 1</div>,\n",
              " <div class=\"fcab3ed991 a23c043802\" data-testid=\"title\">Residency Hotels Enugu Independence Layout</div>,\n",
              " <div class=\"fcab3ed991 a23c043802\" data-testid=\"title\">Ziroc Residence Lekki Phase 1</div>,\n",
              " <div class=\"fcab3ed991 a23c043802\" data-testid=\"title\">Park Inn by Radisson Abeokuta</div>,\n",
              " <div class=\"fcab3ed991 a23c043802\" data-testid=\"title\">Grand Inn &amp; Suites</div>,\n",
              " <div class=\"fcab3ed991 a23c043802\" data-testid=\"title\">Maxbe Continental Hotel</div>,\n",
              " <div class=\"fcab3ed991 a23c043802\" data-testid=\"title\">Prince Hotel</div>,\n",
              " <div class=\"fcab3ed991 a23c043802\" data-testid=\"title\">AXION HONORS</div>,\n",
              " <div class=\"fcab3ed991 a23c043802\" data-testid=\"title\">Centurion Apartments - Jabi</div>,\n",
              " <div class=\"fcab3ed991 a23c043802\" data-testid=\"title\">Heritage Continental Hotel</div>,\n",
              " <div class=\"fcab3ed991 a23c043802\" data-testid=\"title\">Visa Karena Hotels</div>,\n",
              " <div class=\"fcab3ed991 a23c043802\" data-testid=\"title\">Conference Hotel &amp; Suites Ijebu</div>,\n",
              " <div class=\"fcab3ed991 a23c043802\" data-testid=\"title\">RM suites</div>,\n",
              " <div class=\"fcab3ed991 a23c043802\" data-testid=\"title\">Princecourt Hotels Osogbo</div>]"
            ]
          },
          "execution_count": 424,
          "metadata": {},
          "output_type": "execute_result"
        }
      ],
      "source": [
        "soup.find_all('div', class_=\"fcab3ed991 a23c043802\")"
      ]
    },
    {
      "cell_type": "code",
      "execution_count": null,
      "id": "3145b3a4",
      "metadata": {
        "id": "3145b3a4",
        "outputId": "374a9d66-711b-4a8b-ff8c-240f973ca537"
      },
      "outputs": [
        {
          "data": {
            "text/plain": [
              "'Manuela Residence'"
            ]
          },
          "execution_count": 425,
          "metadata": {},
          "output_type": "execute_result"
        }
      ],
      "source": [
        "soup.find_all('div', class_=\"fcab3ed991 a23c043802\")[5].text"
      ]
    },
    {
      "cell_type": "code",
      "execution_count": null,
      "id": "73c4b2e5",
      "metadata": {
        "id": "73c4b2e5"
      },
      "outputs": [],
      "source": [
        "soup.find_all('span', class_=\"f4bd0794db b4273d69aa\")"
      ]
    },
    {
      "cell_type": "code",
      "execution_count": null,
      "id": "008eda26",
      "metadata": {
        "id": "008eda26",
        "outputId": "74c78d80-b5c4-48f4-b558-924c3a7396c4"
      },
      "outputs": [
        {
          "name": "stdout",
          "output_type": "stream",
          "text": [
            "Lekki\n",
            "Port Harcourt\n",
            "Lekki\n",
            "Victoria Island, Lagos\n",
            "Abuja\n",
            "Victoria Island, Lagos\n",
            "Lekki Phase 1, Ogoyo\n",
            "Asaba\n",
            "Port Harcourt\n",
            "Gidan Nbora\n",
            "Lekki\n",
            "Lekki\n",
            "Enugu\n",
            "Lekki Phase 1, Lekki\n",
            "Abeokuta\n",
            "Ijebu Ode\n",
            "Enugu\n",
            "Kano\n",
            "Owerri\n",
            "Jabi\n",
            "Akure\n",
            "Port Harcourt\n",
            "Ijebu Ode\n",
            "Alasia\n",
            "Oshogbo\n"
          ]
        }
      ],
      "source": [
        "\n",
        "for i in range(50):\n",
        "    if i%2==0:\n",
        "        print(soup.find_all('span', class_=\"f4bd0794db b4273d69aa\")[i].text) "
      ]
    },
    {
      "cell_type": "code",
      "execution_count": null,
      "id": "8a191c49",
      "metadata": {
        "id": "8a191c49",
        "outputId": "5c5429ea-1b7c-4132-a4e3-a9417587c3a3"
      },
      "outputs": [
        {
          "data": {
            "text/plain": [
              "[<div class=\"a1b3f50dcd cbb2d85c33 a1f3ecff04 db7f07f643 d19ba76520 f4e25490ec d02f1578ba d17b3fe5e2\" data-testid=\"review-score\"><div aria-label=\"Scored 8.1 \" class=\"b5cd09854e d10a6220b4\">8.1</div><div class=\"b1e6dd8416 b48795b3df\"><div aria-label=\"Very Good\" class=\"b5cd09854e f0d4d6a2f5 e46e88563a\">Very Good </div><div class=\"d8eab2cf7f c90c0a70d3 db63693c62\">57 reviews</div></div></div>,\n",
              " <div class=\"a1b3f50dcd cbb2d85c33 a1f3ecff04 db7f07f643 d19ba76520 f4e25490ec d02f1578ba d17b3fe5e2\" data-testid=\"review-score\"><div aria-label=\"Scored 8.4 \" class=\"b5cd09854e d10a6220b4\">8.4</div><div class=\"b1e6dd8416 b48795b3df\"><div aria-label=\"Very Good\" class=\"b5cd09854e f0d4d6a2f5 e46e88563a\">Very Good </div><div class=\"d8eab2cf7f c90c0a70d3 db63693c62\">117 reviews</div></div></div>,\n",
              " <div class=\"a1b3f50dcd cbb2d85c33 a1f3ecff04 db7f07f643 d19ba76520 f4e25490ec d02f1578ba d17b3fe5e2\" data-testid=\"review-score\"><div aria-label=\"Scored 8.0 \" class=\"b5cd09854e d10a6220b4\">8.0</div><div class=\"b1e6dd8416 b48795b3df\"><div aria-label=\"Very Good\" class=\"b5cd09854e f0d4d6a2f5 e46e88563a\">Very Good </div><div class=\"d8eab2cf7f c90c0a70d3 db63693c62\">6 reviews</div></div></div>,\n",
              " <div class=\"a1b3f50dcd cbb2d85c33 a1f3ecff04 db7f07f643 d19ba76520 f4e25490ec d02f1578ba d17b3fe5e2\" data-testid=\"review-score\"><div aria-label=\"Scored 7.9 \" class=\"b5cd09854e d10a6220b4\">7.9</div><div class=\"b1e6dd8416 b48795b3df\"><div aria-label=\"Good\" class=\"b5cd09854e f0d4d6a2f5 e46e88563a\">Good </div><div class=\"d8eab2cf7f c90c0a70d3 db63693c62\">39 reviews</div></div></div>,\n",
              " <div class=\"a1b3f50dcd cbb2d85c33 a1f3ecff04 db7f07f643 d19ba76520 f4e25490ec d02f1578ba d17b3fe5e2\" data-testid=\"review-score\"><div aria-label=\"Scored 8.4 \" class=\"b5cd09854e d10a6220b4\">8.4</div><div class=\"b1e6dd8416 b48795b3df\"><div aria-label=\"Very Good\" class=\"b5cd09854e f0d4d6a2f5 e46e88563a\">Very Good </div><div class=\"d8eab2cf7f c90c0a70d3 db63693c62\">43 reviews</div></div></div>,\n",
              " <div class=\"a1b3f50dcd cbb2d85c33 a1f3ecff04 db7f07f643 d19ba76520 f4e25490ec d02f1578ba d17b3fe5e2\" data-testid=\"review-score\"><div aria-label=\"Scored 7.4 \" class=\"b5cd09854e d10a6220b4\">7.4</div><div class=\"b1e6dd8416 b48795b3df\"><div aria-label=\"Good\" class=\"b5cd09854e f0d4d6a2f5 e46e88563a\">Good </div><div class=\"d8eab2cf7f c90c0a70d3 db63693c62\">26 reviews</div></div></div>,\n",
              " <div class=\"a1b3f50dcd cbb2d85c33 a1f3ecff04 db7f07f643 d19ba76520 f4e25490ec d02f1578ba d17b3fe5e2\" data-testid=\"review-score\"><div aria-label=\"Scored 9.0 \" class=\"b5cd09854e d10a6220b4\">9.0</div><div class=\"b1e6dd8416 b48795b3df\"><div aria-label=\"Wonderful\" class=\"b5cd09854e f0d4d6a2f5 e46e88563a\">Wonderful </div><div class=\"d8eab2cf7f c90c0a70d3 db63693c62\">2 reviews</div></div></div>,\n",
              " <div class=\"a1b3f50dcd cbb2d85c33 a1f3ecff04 db7f07f643 d19ba76520 f4e25490ec d02f1578ba d17b3fe5e2\" data-testid=\"review-score\"><div aria-label=\"Scored 7.1 \" class=\"b5cd09854e d10a6220b4\">7.1</div><div class=\"b1e6dd8416 b48795b3df\"><div aria-label=\"Good\" class=\"b5cd09854e f0d4d6a2f5 e46e88563a\">Good </div><div class=\"d8eab2cf7f c90c0a70d3 db63693c62\">49 reviews</div></div></div>,\n",
              " <div class=\"a1b3f50dcd cbb2d85c33 a1f3ecff04 db7f07f643 d19ba76520 f4e25490ec d02f1578ba d17b3fe5e2\" data-testid=\"review-score\"><div aria-label=\"Scored 7.2 \" class=\"b5cd09854e d10a6220b4\">7.2</div><div class=\"b1e6dd8416 b48795b3df\"><div aria-label=\"Good\" class=\"b5cd09854e f0d4d6a2f5 e46e88563a\">Good </div><div class=\"d8eab2cf7f c90c0a70d3 db63693c62\">181 reviews</div></div></div>,\n",
              " <div class=\"a1b3f50dcd cbb2d85c33 a1f3ecff04 db7f07f643 d19ba76520 f4e25490ec d02f1578ba d17b3fe5e2\" data-testid=\"review-score\"><div aria-label=\"Scored 6.3 \" class=\"b5cd09854e d10a6220b4\">6.3</div><div class=\"b1e6dd8416 b48795b3df\"><div aria-label=\"Review score\" class=\"b5cd09854e f0d4d6a2f5 e46e88563a\">Review score </div><div class=\"d8eab2cf7f c90c0a70d3 db63693c62\">9 reviews</div></div></div>,\n",
              " <div class=\"a1b3f50dcd cbb2d85c33 a1f3ecff04 db7f07f643 d19ba76520 f4e25490ec d02f1578ba d17b3fe5e2\" data-testid=\"review-score\"><div aria-label=\"Scored 7.1 \" class=\"b5cd09854e d10a6220b4\">7.1</div><div class=\"b1e6dd8416 b48795b3df\"><div aria-label=\"Good\" class=\"b5cd09854e f0d4d6a2f5 e46e88563a\">Good </div><div class=\"d8eab2cf7f c90c0a70d3 db63693c62\">58 reviews</div></div></div>,\n",
              " <div class=\"a1b3f50dcd cbb2d85c33 a1f3ecff04 db7f07f643 d19ba76520 f4e25490ec d02f1578ba d17b3fe5e2\" data-testid=\"review-score\"><div aria-label=\"Scored 7.4 \" class=\"b5cd09854e d10a6220b4\">7.4</div><div class=\"b1e6dd8416 b48795b3df\"><div aria-label=\"Good\" class=\"b5cd09854e f0d4d6a2f5 e46e88563a\">Good </div><div class=\"d8eab2cf7f c90c0a70d3 db63693c62\">92 reviews</div></div></div>,\n",
              " <div class=\"a1b3f50dcd cbb2d85c33 a1f3ecff04 db7f07f643 d19ba76520 f4e25490ec d02f1578ba d17b3fe5e2\" data-testid=\"review-score\"><div aria-label=\"Scored 7.1 \" class=\"b5cd09854e d10a6220b4\">7.1</div><div class=\"b1e6dd8416 b48795b3df\"><div aria-label=\"Good\" class=\"b5cd09854e f0d4d6a2f5 e46e88563a\">Good </div><div class=\"d8eab2cf7f c90c0a70d3 db63693c62\">63 reviews</div></div></div>,\n",
              " <div class=\"a1b3f50dcd cbb2d85c33 a1f3ecff04 db7f07f643 d19ba76520 f4e25490ec d02f1578ba d17b3fe5e2\" data-testid=\"review-score\"><div aria-label=\"Scored 7.4 \" class=\"b5cd09854e d10a6220b4\">7.4</div><div class=\"b1e6dd8416 b48795b3df\"><div aria-label=\"Good\" class=\"b5cd09854e f0d4d6a2f5 e46e88563a\">Good </div><div class=\"d8eab2cf7f c90c0a70d3 db63693c62\">395 reviews</div></div></div>,\n",
              " <div class=\"a1b3f50dcd cbb2d85c33 a1f3ecff04 db7f07f643 d19ba76520 f4e25490ec d02f1578ba d17b3fe5e2\" data-testid=\"review-score\"><div aria-label=\"Scored 7.7 \" class=\"b5cd09854e d10a6220b4\">7.7</div><div class=\"b1e6dd8416 b48795b3df\"><div aria-label=\"Good\" class=\"b5cd09854e f0d4d6a2f5 e46e88563a\">Good </div><div class=\"d8eab2cf7f c90c0a70d3 db63693c62\">183 reviews</div></div></div>,\n",
              " <div class=\"a1b3f50dcd cbb2d85c33 a1f3ecff04 db7f07f643 d19ba76520 f4e25490ec d02f1578ba d17b3fe5e2\" data-testid=\"review-score\"><div aria-label=\"Scored 7.9 \" class=\"b5cd09854e d10a6220b4\">7.9</div><div class=\"b1e6dd8416 b48795b3df\"><div aria-label=\"Good\" class=\"b5cd09854e f0d4d6a2f5 e46e88563a\">Good </div><div class=\"d8eab2cf7f c90c0a70d3 db63693c62\">67 reviews</div></div></div>,\n",
              " <div class=\"a1b3f50dcd cbb2d85c33 a1f3ecff04 db7f07f643 d19ba76520 f4e25490ec d02f1578ba d17b3fe5e2\" data-testid=\"review-score\"><div aria-label=\"Scored 8.0 \" class=\"b5cd09854e d10a6220b4\">8.0</div><div class=\"b1e6dd8416 b48795b3df\"><div aria-label=\"Very Good\" class=\"b5cd09854e f0d4d6a2f5 e46e88563a\">Very Good </div><div class=\"d8eab2cf7f c90c0a70d3 db63693c62\">161 reviews</div></div></div>,\n",
              " <div class=\"a1b3f50dcd cbb2d85c33 a1f3ecff04 db7f07f643 d19ba76520 f4e25490ec d02f1578ba d17b3fe5e2\" data-testid=\"review-score\"><div aria-label=\"Scored 8.0 \" class=\"b5cd09854e d10a6220b4\">8.0</div><div class=\"b1e6dd8416 b48795b3df\"><div aria-label=\"Very Good\" class=\"b5cd09854e f0d4d6a2f5 e46e88563a\">Very Good </div><div class=\"d8eab2cf7f c90c0a70d3 db63693c62\">92 reviews</div></div></div>,\n",
              " <div class=\"a1b3f50dcd cbb2d85c33 a1f3ecff04 db7f07f643 d19ba76520 f4e25490ec d02f1578ba d17b3fe5e2\" data-testid=\"review-score\"><div aria-label=\"Scored 8.1 \" class=\"b5cd09854e d10a6220b4\">8.1</div><div class=\"b1e6dd8416 b48795b3df\"><div aria-label=\"Very Good\" class=\"b5cd09854e f0d4d6a2f5 e46e88563a\">Very Good </div><div class=\"d8eab2cf7f c90c0a70d3 db63693c62\">114 reviews</div></div></div>,\n",
              " <div class=\"a1b3f50dcd cbb2d85c33 a1f3ecff04 db7f07f643 d19ba76520 f4e25490ec d02f1578ba d17b3fe5e2\" data-testid=\"review-score\"><div aria-label=\"Scored 7.8 \" class=\"b5cd09854e d10a6220b4\">7.8</div><div class=\"b1e6dd8416 b48795b3df\"><div aria-label=\"Good\" class=\"b5cd09854e f0d4d6a2f5 e46e88563a\">Good </div><div class=\"d8eab2cf7f c90c0a70d3 db63693c62\">132 reviews</div></div></div>,\n",
              " <div class=\"a1b3f50dcd cbb2d85c33 a1f3ecff04 db7f07f643 d19ba76520 f4e25490ec d02f1578ba d17b3fe5e2\" data-testid=\"review-score\"><div aria-label=\"Scored 8.6 \" class=\"b5cd09854e d10a6220b4\">8.6</div><div class=\"b1e6dd8416 b48795b3df\"><div aria-label=\"Excellent\" class=\"b5cd09854e f0d4d6a2f5 e46e88563a\">Excellent </div><div class=\"d8eab2cf7f c90c0a70d3 db63693c62\">55 reviews</div></div></div>,\n",
              " <div class=\"a1b3f50dcd cbb2d85c33 a1f3ecff04 db7f07f643 d19ba76520 f4e25490ec d02f1578ba d17b3fe5e2\" data-testid=\"review-score\"><div aria-label=\"Scored 7.7 \" class=\"b5cd09854e d10a6220b4\">7.7</div><div class=\"b1e6dd8416 b48795b3df\"><div aria-label=\"Good\" class=\"b5cd09854e f0d4d6a2f5 e46e88563a\">Good </div><div class=\"d8eab2cf7f c90c0a70d3 db63693c62\">194 reviews</div></div></div>,\n",
              " <div class=\"a1b3f50dcd cbb2d85c33 a1f3ecff04 db7f07f643 d19ba76520 f4e25490ec d02f1578ba d17b3fe5e2\" data-testid=\"review-score\"><div aria-label=\"Scored 7.2 \" class=\"b5cd09854e d10a6220b4\">7.2</div><div class=\"b1e6dd8416 b48795b3df\"><div aria-label=\"Good\" class=\"b5cd09854e f0d4d6a2f5 e46e88563a\">Good </div><div class=\"d8eab2cf7f c90c0a70d3 db63693c62\">35 reviews</div></div></div>,\n",
              " <div class=\"a1b3f50dcd cbb2d85c33 a1f3ecff04 db7f07f643 d19ba76520 f4e25490ec d02f1578ba d17b3fe5e2\" data-testid=\"review-score\"><div aria-label=\"Scored 7.0 \" class=\"b5cd09854e d10a6220b4\">7.0</div><div class=\"b1e6dd8416 b48795b3df\"><div aria-label=\"Good\" class=\"b5cd09854e f0d4d6a2f5 e46e88563a\">Good </div><div class=\"d8eab2cf7f c90c0a70d3 db63693c62\">30 reviews</div></div></div>,\n",
              " <div class=\"a1b3f50dcd cbb2d85c33 a1f3ecff04 db7f07f643 d19ba76520 f4e25490ec d02f1578ba d17b3fe5e2\" data-testid=\"review-score\"><div aria-label=\"Scored 8.2 \" class=\"b5cd09854e d10a6220b4\">8.2</div><div class=\"b1e6dd8416 b48795b3df\"><div aria-label=\"Very Good\" class=\"b5cd09854e f0d4d6a2f5 e46e88563a\">Very Good </div><div class=\"d8eab2cf7f c90c0a70d3 db63693c62\">17 reviews</div></div></div>]"
            ]
          },
          "execution_count": 428,
          "metadata": {},
          "output_type": "execute_result"
        }
      ],
      "source": [
        " soup.find_all('div', class_=\"a1b3f50dcd cbb2d85c33 a1f3ecff04 db7f07f643 d19ba76520 f4e25490ec d02f1578ba d17b3fe5e2\")"
      ]
    },
    {
      "cell_type": "code",
      "execution_count": null,
      "id": "f6ce3b2b",
      "metadata": {
        "scrolled": true,
        "id": "f6ce3b2b",
        "outputId": "5fcb06f9-bc62-42e1-cb25-b8c980919b1c"
      },
      "outputs": [
        {
          "data": {
            "text/plain": [
              "'8.4'"
            ]
          },
          "execution_count": 429,
          "metadata": {},
          "output_type": "execute_result"
        }
      ],
      "source": [
        " soup.find_all('div', class_=\"a1b3f50dcd cbb2d85c33 a1f3ecff04 db7f07f643 d19ba76520 f4e25490ec d02f1578ba d17b3fe5e2\")[1].text.split()[0][:3]"
      ]
    },
    {
      "cell_type": "code",
      "execution_count": null,
      "id": "413b6c49",
      "metadata": {
        "id": "413b6c49",
        "outputId": "9fbb5d86-fb8e-4edc-90a8-9df26ecd35ff"
      },
      "outputs": [
        {
          "data": {
            "text/plain": [
              "'Good'"
            ]
          },
          "execution_count": 430,
          "metadata": {},
          "output_type": "execute_result"
        }
      ],
      "source": [
        "soup.find_all('div', class_=\"a1b3f50dcd cbb2d85c33 a1f3ecff04 db7f07f643 d19ba76520 f4e25490ec d02f1578ba d17b3fe5e2\")[4].text.split()[1]"
      ]
    },
    {
      "cell_type": "code",
      "execution_count": null,
      "id": "817f868a",
      "metadata": {
        "id": "817f868a",
        "outputId": "402a03a9-2812-49eb-f5fc-8e0a95ddb129"
      },
      "outputs": [
        {
          "data": {
            "text/plain": [
              "['7.9Good', '67', 'reviews']"
            ]
          },
          "execution_count": 431,
          "metadata": {},
          "output_type": "execute_result"
        }
      ],
      "source": [
        "soup.find_all('div', class_=\"a1b3f50dcd cbb2d85c33 a1f3ecff04 db7f07f643 d19ba76520 f4e25490ec d02f1578ba d17b3fe5e2\")[15].text.split()"
      ]
    },
    {
      "cell_type": "code",
      "execution_count": null,
      "id": "e5bf5051",
      "metadata": {
        "scrolled": true,
        "id": "e5bf5051",
        "outputId": "170ff622-f7ff-445b-dbc5-55971aa2928f"
      },
      "outputs": [
        {
          "data": {
            "text/plain": [
              "[<span class=\"fcab3ed991 bd73d13072\">NGN 41,555</span>,\n",
              " <span class=\"fcab3ed991 bd73d13072\">NGN 14,355</span>,\n",
              " <span class=\"fcab3ed991 bd73d13072\">NGN 30,222</span>,\n",
              " <span class=\"fcab3ed991 bd73d13072\">NGN 70,430</span>,\n",
              " <span class=\"fcab3ed991 bd73d13072\">NGN 17,944</span>,\n",
              " <span class=\"fcab3ed991 bd73d13072\">NGN 64,125</span>,\n",
              " <span class=\"fcab3ed991 bd73d13072\">NGN 156,571</span>,\n",
              " <span class=\"fcab3ed991 bd73d13072\">NGN 14,549</span>,\n",
              " <span class=\"fcab3ed991 bd73d13072\">NGN 27,284</span>,\n",
              " <span class=\"fcab3ed991 bd73d13072\">NGN 22,007</span>,\n",
              " <span class=\"fcab3ed991 bd73d13072\">NGN 24,925</span>,\n",
              " <span class=\"fcab3ed991 bd73d13072\">NGN 25,420</span>,\n",
              " <span class=\"fcab3ed991 bd73d13072\">NGN 18,217</span>,\n",
              " <span class=\"fcab3ed991 bd73d13072\">NGN 25,185</span>,\n",
              " <span class=\"fcab3ed991 bd73d13072\">NGN 56,666</span>,\n",
              " <span class=\"fcab3ed991 bd73d13072\">NGN 27,719</span>,\n",
              " <span class=\"fcab3ed991 bd73d13072\">NGN 39,876</span>,\n",
              " <span class=\"fcab3ed991 bd73d13072\">NGN 61,149</span>,\n",
              " <span class=\"fcab3ed991 bd73d13072\">NGN 23,191</span>,\n",
              " <span class=\"fcab3ed991 bd73d13072\">NGN 23,086</span>,\n",
              " <span class=\"fcab3ed991 bd73d13072\">NGN 59,590</span>,\n",
              " <span class=\"fcab3ed991 bd73d13072\">NGN 43,680</span>,\n",
              " <span class=\"fcab3ed991 bd73d13072\">NGN 25,286</span>,\n",
              " <span class=\"fcab3ed991 bd73d13072\">NGN 13,222</span>,\n",
              " <span class=\"fcab3ed991 bd73d13072\">NGN 9,444</span>]"
            ]
          },
          "execution_count": 432,
          "metadata": {},
          "output_type": "execute_result"
        }
      ],
      "source": [
        "soup.find_all('span', class_=\"fcab3ed991 bd73d13072\")"
      ]
    },
    {
      "cell_type": "code",
      "execution_count": null,
      "id": "40751e00",
      "metadata": {
        "id": "40751e00"
      },
      "outputs": [],
      "source": [
        "soup.find_all('span', class_=\"fcab3ed991 bd73d13072\")[0].text.split()[1]"
      ]
    },
    {
      "cell_type": "code",
      "execution_count": null,
      "id": "d897e8e6",
      "metadata": {
        "id": "d897e8e6"
      },
      "outputs": [],
      "source": [
        ""
      ]
    },
    {
      "cell_type": "code",
      "execution_count": null,
      "id": "9f923ef5",
      "metadata": {
        "id": "9f923ef5",
        "outputId": "f404dfc7-fb29-4357-be6c-48663e12eb06"
      },
      "outputs": [
        {
          "name": "stdout",
          "output_type": "stream",
          "text": [
            "907\n"
          ]
        }
      ],
      "source": [
        "from datetime import date\n",
        "\n",
        "today = date.today()\n",
        "day=today.day\n",
        "day=day+1 \n",
        "year=today.year\n",
        "month=today.month\n",
        "tom=f'{year}-{month}-{day}'\n",
        "\n",
        "headers = {'User-Agent':'Mozilla/5.0 (Macintosh; Intel Mac OS X 10_14_6) AppleWebKit/537.36 (KHTML, like Gecko) Chrome/102.0.5005.61 Safari/537.36'}\n",
        "main_link1='https://www.booking.com/searchresults.html?aid=356980&label=gen173nr-1FCAEoggI46AdIM1gEaGyIAQGYATG4AQfIAQzYAQHoAQH4AQKIAgGoAgO4AvTIm_IFwAIB&sid=9035488a14dba79b3cf0ff841f1fe27f&sb=1&sb_lp=1&src=index&src_elem=sb&error_url=https%3A%2F%2Fwww.booking.com%2Findex.html%3Faid%3D356980%26label%3Dgen173nr-1FCAEoggI46AdIM1gEaGyIAQGYATG4AQfIAQzYAQHoAQH4AQKIAgGoAgO4AvTIm_IFwAIB%26sid%3D9035488a14dba79b3cf0ff841f1fe27f%26sb_price_type%3Dtotal%3Bsrpvid%3D34753a6e9f13002d%26%26&ss=Nigeria&is_ski_area=&checkin_year=2022&checkin_month=6&checkin_monthday=16&checkout_year=2022&checkout_month=6&checkout_monthday=17&group_adults=2&group_children=0&no_rooms=1&b_h4u_keep_filters=&from_sf=1&ss_raw=niger&ac_position=1&ac_langcode=en&ac_click_type=b&dest_id=155&dest_type=country&place_id_lat=8.789&place_id_lon=7.52639&search_pageview_id=b237450d16620450&search_selected=true&search_pageview_id=b237450d16620450&ac_suggestion_list_length=5&ac_suggestion_theme_list_length=0'\n",
        "page1 = requests.get(main_link1, headers=headers)\n",
        "soup1 = BeautifulSoup(page1.text,\"lxml\")\n",
        "\n",
        "count=int(soup1.find_all('h1', class_=\"e1f827110f d3a14d00da\")[0].text[9:-17].replace(\",\",\"\"))\n",
        "print(count)\n",
        "\n",
        "\n",
        "Name=[]\n",
        "Price_per_night=[]\n",
        "Location=[]\n",
        "Rating=[]\n",
        "Classification=[]\n",
        "No_of_Reviews=[]\n",
        "\n",
        "\n",
        "\n",
        "li=list(range(0,count,25))[:-1]\n",
        "\n",
        "for num in li:\n",
        "    main_link=(f'https://www.booking.com/searchresults.html?aid=356980&label=gen173nr-1FCAEoggI46AdIM1gEaGyIAQGYATG4AQfIAQzYAQHoAQH4AQKIAgGoAgO4AvTIm_IFwAIB&sid=9035488a14dba79b3cf0ff841f1fe27f&sb=1&sb_lp=1&src=index&src_elem=sb&error_url=https%3A%2F%2Fwww.booking.com%2Findex.html%3Faid%3D356980%26label%3Dgen173nr-1FCAEoggI46AdIM1gEaGyIAQGYATG4AQfIAQzYAQHoAQH4AQKIAgGoAgO4AvTIm_IFwAIB%26sid%3D9035488a14dba79b3cf0ff841f1fe27f%26sb_price_type%3Dtotal%3Bsrpvid%3D34753a6e9f13002d%26%26&ss=Nigeria&is_ski_area=&checkin_year=2022&checkin_month=6&checkin_monthday=16&checkout_year=2022&checkout_month=6&checkout_monthday=17&group_adults=2&group_children=0&no_rooms=1&b_h4u_keep_filters=&from_sf=1&ss_raw=niger&ac_position=1&ac_langcode=en&ac_click_type=b&dest_id=155&dest_type=country&place_id_lat=8.789&place_id_lon=7.52639&search_pageview_id=b237450d16620450&search_selected=true&search_pageview_id=b237450d16620450&ac_suggestion_list_length=5&ac_suggestion_theme_list_length={num}')\n",
        "    page = requests.get(main_link, headers=headers)\n",
        "    soup = BeautifulSoup(page.text,\"lxml\")\n",
        "    \n",
        "    for i in range(25):\n",
        "        names=soup.find_all('div', class_=\"fcab3ed991 a23c043802\")[i].text\n",
        "        Name.append(names)\n",
        "        price=soup.find_all('span', class_=\"fcab3ed991 bd73d13072\")[i].text.split()[1]\n",
        "        Price_per_night.append(price) \n",
        "        rate= soup.find_all('div', class_=\"a1b3f50dcd cbb2d85c33 a1f3ecff04 db7f07f643 d19ba76520 f4e25490ec d02f1578ba d17b3fe5e2\")[i].text.split()[0][:3]\n",
        "        Rating.append(rate)\n",
        "        if len(soup.find_all('div', class_=\"a1b3f50dcd cbb2d85c33 a1f3ecff04 db7f07f643 d19ba76520 f4e25490ec d02f1578ba d17b3fe5e2\")[i].text.split())==3:\n",
        "            review=soup.find_all('div', class_=\"a1b3f50dcd cbb2d85c33 a1f3ecff04 db7f07f643 d19ba76520 f4e25490ec d02f1578ba d17b3fe5e2\")[i].text.split()[1]\n",
        "            classes=soup.find_all('div', class_=\"a1b3f50dcd cbb2d85c33 a1f3ecff04 db7f07f643 d19ba76520 f4e25490ec d02f1578ba d17b3fe5e2\")[i].text.split()[0][3:]\n",
        "        else:\n",
        "            review=soup.find_all('div', class_=\"a1b3f50dcd cbb2d85c33 a1f3ecff04 db7f07f643 d19ba76520 f4e25490ec d02f1578ba d17b3fe5e2\")[i].text.split()[2]\n",
        "            classes=soup.find_all('div', class_=\"a1b3f50dcd cbb2d85c33 a1f3ecff04 db7f07f643 d19ba76520 f4e25490ec d02f1578ba d17b3fe5e2\")[i].text.split()[1]\n",
        "        No_of_Reviews.append(review)\n",
        "        Classification.append(classes)\n",
        "\n",
        "    nums=[x for x in range(50) if x%2==0]\n",
        "    for e in nums:\n",
        "        locate=soup.find_all('span', class_=\"f4bd0794db b4273d69aa\")[e].text\n",
        "        Location.append(locate)\n",
        "\n",
        "    \n",
        "\n"
      ]
    },
    {
      "cell_type": "code",
      "execution_count": null,
      "id": "2985a544",
      "metadata": {
        "id": "2985a544"
      },
      "outputs": [],
      "source": [
        "df=pd.DataFrame({'Name':Name,'Price_per_night':Price_per_night,\n",
        "              'Location':Location,'Rating':Rating,\n",
        "              'Classification':Classification,'No_of_Reviews':No_of_Reviews})"
      ]
    },
    {
      "cell_type": "code",
      "execution_count": null,
      "id": "e6d4c1fc",
      "metadata": {
        "id": "e6d4c1fc",
        "outputId": "82829b01-fdcf-43ba-f88f-306cbd1c8191"
      },
      "outputs": [
        {
          "data": {
            "text/html": [
              "<div>\n",
              "<style scoped>\n",
              "    .dataframe tbody tr th:only-of-type {\n",
              "        vertical-align: middle;\n",
              "    }\n",
              "\n",
              "    .dataframe tbody tr th {\n",
              "        vertical-align: top;\n",
              "    }\n",
              "\n",
              "    .dataframe thead th {\n",
              "        text-align: right;\n",
              "    }\n",
              "</style>\n",
              "<table border=\"1\" class=\"dataframe\">\n",
              "  <thead>\n",
              "    <tr style=\"text-align: right;\">\n",
              "      <th></th>\n",
              "      <th>Name</th>\n",
              "      <th>Price_per_night</th>\n",
              "      <th>Location</th>\n",
              "      <th>Rating</th>\n",
              "      <th>Classification</th>\n",
              "      <th>No_of_Reviews</th>\n",
              "    </tr>\n",
              "  </thead>\n",
              "  <tbody>\n",
              "    <tr>\n",
              "      <th>0</th>\n",
              "      <td>Seth Hotel, Asaba</td>\n",
              "      <td>14,549</td>\n",
              "      <td>Asaba</td>\n",
              "      <td>7.1</td>\n",
              "      <td>Good</td>\n",
              "      <td>49</td>\n",
              "    </tr>\n",
              "    <tr>\n",
              "      <th>1</th>\n",
              "      <td>Swiss Spirit Hotel &amp; Suites Danag - Port Harcourt</td>\n",
              "      <td>27,284</td>\n",
              "      <td>Port Harcourt</td>\n",
              "      <td>7.2</td>\n",
              "      <td>Good</td>\n",
              "      <td>181</td>\n",
              "    </tr>\n",
              "    <tr>\n",
              "      <th>2</th>\n",
              "      <td>Greys Residential Homes Idu Abuja</td>\n",
              "      <td>22,007</td>\n",
              "      <td>Gidan Nbora</td>\n",
              "      <td>6.3</td>\n",
              "      <td>score</td>\n",
              "      <td>9</td>\n",
              "    </tr>\n",
              "    <tr>\n",
              "      <th>3</th>\n",
              "      <td>Presken Hotels @ Freedom Way, Lekki</td>\n",
              "      <td>24,925</td>\n",
              "      <td>Lekki</td>\n",
              "      <td>7.1</td>\n",
              "      <td>Good</td>\n",
              "      <td>58</td>\n",
              "    </tr>\n",
              "    <tr>\n",
              "      <th>4</th>\n",
              "      <td>Tahir Guest Palace</td>\n",
              "      <td>28,800</td>\n",
              "      <td>Kano</td>\n",
              "      <td>7.6</td>\n",
              "      <td>Good</td>\n",
              "      <td>457</td>\n",
              "    </tr>\n",
              "    <tr>\n",
              "      <th>...</th>\n",
              "      <td>...</td>\n",
              "      <td>...</td>\n",
              "      <td>...</td>\n",
              "      <td>...</td>\n",
              "      <td>...</td>\n",
              "      <td>...</td>\n",
              "    </tr>\n",
              "    <tr>\n",
              "      <th>70</th>\n",
              "      <td>Tahir Guest Palace</td>\n",
              "      <td>28,800</td>\n",
              "      <td>Kano</td>\n",
              "      <td>7.6</td>\n",
              "      <td>Good</td>\n",
              "      <td>457</td>\n",
              "    </tr>\n",
              "    <tr>\n",
              "      <th>71</th>\n",
              "      <td>Presken Luxury Apartments</td>\n",
              "      <td>94,444</td>\n",
              "      <td>Ikoyi, Lagos</td>\n",
              "      <td>9.2</td>\n",
              "      <td>Superb</td>\n",
              "      <td>6</td>\n",
              "    </tr>\n",
              "    <tr>\n",
              "      <th>72</th>\n",
              "      <td>Hatfield hotel and suites</td>\n",
              "      <td>8,000</td>\n",
              "      <td>Jos</td>\n",
              "      <td>7.0</td>\n",
              "      <td>Good</td>\n",
              "      <td>32</td>\n",
              "    </tr>\n",
              "    <tr>\n",
              "      <th>73</th>\n",
              "      <td>Mexiloyd Luxury Rooms &amp; Suites</td>\n",
              "      <td>12,593</td>\n",
              "      <td>Port Harcourt</td>\n",
              "      <td>7.9</td>\n",
              "      <td>Good</td>\n",
              "      <td>68</td>\n",
              "    </tr>\n",
              "    <tr>\n",
              "      <th>74</th>\n",
              "      <td>Ocean Park Hotel,Lekki phase 1</td>\n",
              "      <td>25,420</td>\n",
              "      <td>Lekki</td>\n",
              "      <td>7.4</td>\n",
              "      <td>Good</td>\n",
              "      <td>92</td>\n",
              "    </tr>\n",
              "  </tbody>\n",
              "</table>\n",
              "<p>75 rows × 6 columns</p>\n",
              "</div>"
            ],
            "text/plain": [
              "                                                 Name Price_per_night  \\\n",
              "0                                   Seth Hotel, Asaba          14,549   \n",
              "1   Swiss Spirit Hotel & Suites Danag - Port Harcourt          27,284   \n",
              "2                   Greys Residential Homes Idu Abuja          22,007   \n",
              "3                 Presken Hotels @ Freedom Way, Lekki          24,925   \n",
              "4                                  Tahir Guest Palace          28,800   \n",
              "..                                                ...             ...   \n",
              "70                                 Tahir Guest Palace          28,800   \n",
              "71                          Presken Luxury Apartments          94,444   \n",
              "72                          Hatfield hotel and suites           8,000   \n",
              "73                     Mexiloyd Luxury Rooms & Suites          12,593   \n",
              "74                     Ocean Park Hotel,Lekki phase 1          25,420   \n",
              "\n",
              "         Location Rating Classification No_of_Reviews  \n",
              "0           Asaba    7.1           Good            49  \n",
              "1   Port Harcourt    7.2           Good           181  \n",
              "2     Gidan Nbora    6.3          score             9  \n",
              "3           Lekki    7.1           Good            58  \n",
              "4            Kano    7.6           Good           457  \n",
              "..            ...    ...            ...           ...  \n",
              "70           Kano    7.6           Good           457  \n",
              "71   Ikoyi, Lagos    9.2         Superb             6  \n",
              "72            Jos    7.0           Good            32  \n",
              "73  Port Harcourt    7.9           Good            68  \n",
              "74          Lekki    7.4           Good            92  \n",
              "\n",
              "[75 rows x 6 columns]"
            ]
          },
          "execution_count": 381,
          "metadata": {},
          "output_type": "execute_result"
        }
      ],
      "source": [
        "df.head(75)"
      ]
    },
    {
      "cell_type": "code",
      "execution_count": null,
      "id": "f90e0500",
      "metadata": {
        "id": "f90e0500"
      },
      "outputs": [],
      "source": [
        "df.to_csv('hotels.csv',index=False, encoding='utf-8')"
      ]
    }
  ],
  "metadata": {
    "kernelspec": {
      "display_name": "Python 3 (ipykernel)",
      "language": "python",
      "name": "python3"
    },
    "language_info": {
      "codemirror_mode": {
        "name": "ipython",
        "version": 3
      },
      "file_extension": ".py",
      "mimetype": "text/x-python",
      "name": "python",
      "nbconvert_exporter": "python",
      "pygments_lexer": "ipython3",
      "version": "3.9.7"
    },
    "colab": {
      "name": "hotel web scraping.ipynb",
      "provenance": [],
      "include_colab_link": true
    }
  },
  "nbformat": 4,
  "nbformat_minor": 5
}